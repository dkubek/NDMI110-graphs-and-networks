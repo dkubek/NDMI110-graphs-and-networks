{
 "cells": [
  {
   "cell_type": "code",
   "execution_count": 51,
   "metadata": {},
   "outputs": [],
   "source": [
    "import networkx as nx\n",
    "import numpy as np\n",
    "\n",
    "import seaborn as sns\n",
    "sns.set_theme()"
   ]
  },
  {
   "cell_type": "code",
   "execution_count": 52,
   "metadata": {},
   "outputs": [],
   "source": [
    "p8 = nx.path_graph(8)\n",
    "star = nx.star_graph(8)\n",
    "house = nx.house_graph()"
   ]
  },
  {
   "cell_type": "markdown",
   "metadata": {},
   "source": [
    "## Task 1 & 2"
   ]
  },
  {
   "cell_type": "code",
   "execution_count": 53,
   "metadata": {},
   "outputs": [],
   "source": [
    "def _global_betweenness_path_length(graph):\n",
    "        n = graph.number_of_nodes()\n",
    "        LG = nx.average_shortest_path_length(graph)\n",
    "        return  ((n - 1) * (LG - 1)) / 2\n",
    "\n",
    "def _global_betweenness_standard(graph):\n",
    "    n = graph.number_of_nodes()\n",
    "    betweenness = nx.betweenness_centrality(graph, normalized=False)\n",
    "    return sum(betweenness.values()) / n\n",
    "\n",
    "def global_betweenness(graph, through_path_length=False):\n",
    "    if through_path_length:\n",
    "        return _global_betweenness_path_length(graph)\n",
    "\n",
    "    return _global_betweenness_standard(graph)\n"
   ]
  },
  {
   "cell_type": "code",
   "execution_count": 54,
   "metadata": {},
   "outputs": [
    {
     "name": "stdout",
     "output_type": "stream",
     "text": [
      "p8 7.0 7.0\n",
      "star 3.111111111111111 3.1111111111111107\n",
      "house 0.8 0.7999999999999998\n"
     ]
    }
   ],
   "source": [
    "print('p8', global_betweenness(p8), global_betweenness(p8, through_path_length=True))\n",
    "print('star', global_betweenness(star), global_betweenness(star, through_path_length=True))\n",
    "print('house', global_betweenness(house), global_betweenness(house, through_path_length=True))"
   ]
  },
  {
   "cell_type": "markdown",
   "metadata": {},
   "source": [
    "## Task 3"
   ]
  },
  {
   "cell_type": "code",
   "execution_count": 55,
   "metadata": {},
   "outputs": [],
   "source": [
    "def check_corollary_4(graph):\n",
    "    n = graph.number_of_nodes()\n",
    "    m = graph.number_of_edges()\n",
    "    T = nx.minimum_spanning_tree(graph)\n",
    "\n",
    "    print(global_betweenness(graph), \"<=\", global_betweenness(T) - (m - n + 1) / n)\n",
    "    return global_betweenness(graph) <= global_betweenness(T) - (m - n + 1) / n"
   ]
  },
  {
   "cell_type": "code",
   "execution_count": 56,
   "metadata": {},
   "outputs": [
    {
     "name": "stdout",
     "output_type": "stream",
     "text": [
      "0\t24.46 <= 96.98\n",
      "1\t25.070000000000004 <= 67.62\n",
      "2\t24.609999999999996 <= 74.87\n",
      "3\t25.15 <= 72.72\n",
      "4\t24.289999999999996 <= 75.65\n",
      "5\t25.189999999999987 <= 88.59\n",
      "6\t24.90999999999999 <= 92.22\n",
      "7\t24.700000000000003 <= 71.42\n",
      "8\t24.919999999999995 <= 78.97\n",
      "9\t24.269999999999996 <= 62.32000000000001\n",
      "10\t24.589999999999982 <= 76.06\n",
      "11\t24.719999999999995 <= 68.85\n",
      "12\t25.08999999999999 <= 78.61\n",
      "13\t24.55 <= 67.05000000000001\n",
      "14\t24.709999999999994 <= 63.260000000000005\n",
      "15\t24.689999999999994 <= 70.12\n",
      "16\t24.43999999999999 <= 79.85\n",
      "17\t24.999999999999986 <= 76.00999999999999\n",
      "18\t25.030000000000005 <= 67.67999999999999\n",
      "19\t25.009999999999994 <= 111.08000000000001\n"
     ]
    }
   ],
   "source": [
    "N = 20\n",
    "for i in range(N):\n",
    "    rg = nx.erdos_renyi_graph(100, p=0.5)\n",
    "    while not nx.is_connected(rg):\n",
    "        rg = nx.erdos_renyi_graph(100, p=0.5)\n",
    "\n",
    "    print(i, end='\\t')\n",
    "    assert check_corollary_4(rg)"
   ]
  },
  {
   "cell_type": "code",
   "execution_count": 57,
   "metadata": {},
   "outputs": [],
   "source": [
    "def check_theorem_5(graph : nx.Graph, w):\n",
    "    n = graph.number_of_nodes()\n",
    "    eps = nx.eccentricity(graph)\n",
    "\n",
    "    G_prime = graph.copy()\n",
    "\n",
    "    assert n not in graph.nodes\n",
    "    G_prime.add_edge(n, w)\n",
    "    \n",
    "    CB_G_prime = global_betweenness(G_prime)\n",
    "\n",
    "    CB_G = global_betweenness(graph) \n",
    "    S = sum(k * len(nx.descendants_at_distance(graph, w, k)) for k in range(1, eps[w] + 1))\n",
    "    RHS = n / (n + 1) * CB_G + 1 / (n + 1) * S\n",
    "\n",
    "    print(CB_G_prime, ' == ', RHS)\n",
    "    return abs(CB_G_prime - RHS) < 1e-9"
   ]
  },
  {
   "cell_type": "code",
   "execution_count": 58,
   "metadata": {},
   "outputs": [
    {
     "name": "stdout",
     "output_type": "stream",
     "text": [
      "0:\n",
      "\t 0\t6.571428571428571  ==  6.571428571428569\n",
      "\t 1\t6.571428571428571  ==  6.571428571428569\n",
      "\t 2\t6.476190476190476  ==  6.4761904761904745\n",
      "\t 3\t6.714285714285714  ==  6.714285714285713\n",
      "\t 4\t6.571428571428571  ==  6.571428571428569\n",
      "\t 5\t6.761904761904762  ==  6.76190476190476\n",
      "\t 6\t6.666666666666667  ==  6.666666666666665\n",
      "\t 7\t6.761904761904764  ==  6.76190476190476\n",
      "\t 8\t6.523809523809524  ==  6.523809523809522\n",
      "\t 9\t6.61904761904762  ==  6.619047619047617\n",
      "\t 10\t6.761904761904762  ==  6.76190476190476\n",
      "\t 11\t6.523809523809523  ==  6.523809523809522\n",
      "\t 12\t6.666666666666665  ==  6.666666666666665\n",
      "\t 13\t6.714285714285713  ==  6.714285714285713\n",
      "\t 14\t6.428571428571429  ==  6.428571428571427\n",
      "\t 15\t6.714285714285714  ==  6.714285714285713\n",
      "\t 16\t6.666666666666665  ==  6.666666666666665\n",
      "\t 17\t6.571428571428571  ==  6.571428571428569\n",
      "\t 18\t6.476190476190476  ==  6.4761904761904745\n",
      "\t 19\t6.523809523809524  ==  6.523809523809522\n",
      "1:\n",
      "\t 0\t5.523809523809525  ==  5.523809523809525\n",
      "\t 1\t5.761904761904762  ==  5.761904761904763\n",
      "\t 2\t5.666666666666667  ==  5.666666666666668\n",
      "\t 3\t5.714285714285714  ==  5.714285714285715\n",
      "\t 4\t5.523809523809525  ==  5.523809523809525\n",
      "\t 5\t5.523809523809524  ==  5.523809523809525\n",
      "\t 6\t5.619047619047618  ==  5.6190476190476195\n",
      "\t 7\t5.523809523809523  ==  5.523809523809525\n",
      "\t 8\t5.619047619047619  ==  5.6190476190476195\n",
      "\t 9\t5.523809523809523  ==  5.523809523809525\n",
      "\t 10\t5.714285714285714  ==  5.714285714285715\n",
      "\t 11\t5.7142857142857135  ==  5.714285714285715\n",
      "\t 12\t5.571428571428571  ==  5.571428571428572\n",
      "\t 13\t5.523809523809525  ==  5.523809523809525\n",
      "\t 14\t5.619047619047619  ==  5.6190476190476195\n",
      "\t 15\t5.666666666666666  ==  5.666666666666668\n",
      "\t 16\t5.6190476190476195  ==  5.6190476190476195\n",
      "\t 17\t5.666666666666667  ==  5.666666666666668\n",
      "\t 18\t5.7142857142857135  ==  5.714285714285715\n",
      "\t 19\t5.571428571428571  ==  5.571428571428572\n",
      "2:\n",
      "\t 0\t6.428571428571429  ==  6.428571428571427\n",
      "\t 1\t6.476190476190476  ==  6.4761904761904745\n",
      "\t 2\t6.476190476190476  ==  6.4761904761904745\n",
      "\t 3\t6.285714285714287  ==  6.285714285714285\n",
      "\t 4\t6.333333333333333  ==  6.333333333333332\n",
      "\t 5\t6.428571428571427  ==  6.428571428571427\n",
      "\t 6\t6.619047619047619  ==  6.619047619047618\n",
      "\t 7\t6.57142857142857  ==  6.57142857142857\n",
      "\t 8\t6.380952380952381  ==  6.38095238095238\n",
      "\t 9\t6.476190476190476  ==  6.4761904761904745\n",
      "\t 10\t6.42857142857143  ==  6.428571428571427\n",
      "\t 11\t6.428571428571427  ==  6.428571428571427\n",
      "\t 12\t6.523809523809524  ==  6.523809523809523\n",
      "\t 13\t6.619047619047618  ==  6.619047619047618\n",
      "\t 14\t6.428571428571429  ==  6.428571428571427\n",
      "\t 15\t6.571428571428571  ==  6.57142857142857\n",
      "\t 16\t6.380952380952381  ==  6.38095238095238\n",
      "\t 17\t6.476190476190476  ==  6.4761904761904745\n",
      "\t 18\t6.428571428571426  ==  6.428571428571427\n",
      "\t 19\t6.380952380952381  ==  6.38095238095238\n",
      "3:\n",
      "\t 0\t5.476190476190475  ==  5.476190476190475\n",
      "\t 1\t5.619047619047619  ==  5.619047619047619\n",
      "\t 2\t5.571428571428571  ==  5.571428571428571\n",
      "\t 3\t5.571428571428572  ==  5.571428571428571\n",
      "\t 4\t5.523809523809524  ==  5.523809523809523\n",
      "\t 5\t5.333333333333333  ==  5.333333333333332\n",
      "\t 6\t5.476190476190475  ==  5.476190476190475\n",
      "\t 7\t5.571428571428571  ==  5.571428571428571\n",
      "\t 8\t5.380952380952381  ==  5.3809523809523805\n",
      "\t 9\t5.285714285714285  ==  5.285714285714285\n",
      "\t 10\t5.523809523809524  ==  5.523809523809523\n",
      "\t 11\t5.571428571428571  ==  5.571428571428571\n",
      "\t 12\t5.619047619047619  ==  5.619047619047619\n",
      "\t 13\t5.4761904761904745  ==  5.476190476190475\n",
      "\t 14\t5.619047619047619  ==  5.619047619047619\n",
      "\t 15\t5.571428571428571  ==  5.571428571428571\n",
      "\t 16\t5.476190476190475  ==  5.476190476190475\n",
      "\t 17\t5.571428571428571  ==  5.571428571428571\n",
      "\t 18\t5.428571428571429  ==  5.428571428571428\n",
      "\t 19\t5.619047619047619  ==  5.619047619047619\n",
      "4:\n",
      "\t 0\t6.285714285714286  ==  6.285714285714285\n",
      "\t 1\t6.523809523809524  ==  6.523809523809523\n",
      "\t 2\t6.42857142857143  ==  6.428571428571427\n",
      "\t 3\t6.57142857142857  ==  6.57142857142857\n",
      "\t 4\t6.333333333333333  ==  6.333333333333332\n",
      "\t 5\t6.476190476190476  ==  6.4761904761904745\n",
      "\t 6\t6.428571428571429  ==  6.428571428571427\n",
      "\t 7\t6.428571428571429  ==  6.428571428571427\n",
      "\t 8\t6.428571428571427  ==  6.428571428571427\n",
      "\t 9\t6.4761904761904745  ==  6.4761904761904745\n",
      "\t 10\t6.42857142857143  ==  6.428571428571427\n",
      "\t 11\t6.42857142857143  ==  6.428571428571427\n",
      "\t 12\t6.428571428571429  ==  6.428571428571427\n",
      "\t 13\t6.4761904761904745  ==  6.4761904761904745\n",
      "\t 14\t6.380952380952381  ==  6.38095238095238\n",
      "\t 15\t6.714285714285714  ==  6.7142857142857135\n",
      "\t 16\t6.380952380952381  ==  6.38095238095238\n",
      "\t 17\t6.4761904761904745  ==  6.4761904761904745\n",
      "\t 18\t6.57142857142857  ==  6.57142857142857\n",
      "\t 19\t6.476190476190476  ==  6.4761904761904745\n",
      "5:\n",
      "\t 0\t5.7142857142857135  ==  5.7142857142857135\n",
      "\t 1\t5.714285714285714  ==  5.7142857142857135\n",
      "\t 2\t5.857142857142857  ==  5.857142857142857\n",
      "\t 3\t5.666666666666667  ==  5.666666666666666\n",
      "\t 4\t5.809523809523809  ==  5.809523809523808\n",
      "\t 5\t5.666666666666666  ==  5.666666666666666\n",
      "\t 6\t5.666666666666669  ==  5.666666666666666\n",
      "\t 7\t5.666666666666667  ==  5.666666666666666\n",
      "\t 8\t5.666666666666666  ==  5.666666666666666\n",
      "\t 9\t5.619047619047619  ==  5.619047619047619\n",
      "\t 10\t5.809523809523808  ==  5.809523809523808\n",
      "\t 11\t5.523809523809523  ==  5.523809523809524\n",
      "\t 12\t5.857142857142856  ==  5.857142857142857\n",
      "\t 13\t5.7142857142857135  ==  5.7142857142857135\n",
      "\t 14\t5.80952380952381  ==  5.809523809523808\n",
      "\t 15\t5.7142857142857135  ==  5.7142857142857135\n",
      "\t 16\t5.7142857142857135  ==  5.7142857142857135\n",
      "\t 17\t5.666666666666666  ==  5.666666666666666\n",
      "\t 18\t5.952380952380952  ==  5.952380952380952\n",
      "\t 19\t5.666666666666667  ==  5.666666666666666\n",
      "6:\n",
      "\t 0\t5.7142857142857135  ==  5.7142857142857135\n",
      "\t 1\t5.714285714285714  ==  5.7142857142857135\n",
      "\t 2\t5.714285714285713  ==  5.7142857142857135\n",
      "\t 3\t5.761904761904762  ==  5.761904761904761\n",
      "\t 4\t5.714285714285714  ==  5.7142857142857135\n",
      "\t 5\t5.666666666666668  ==  5.666666666666666\n",
      "\t 6\t5.6190476190476195  ==  5.619047619047619\n",
      "\t 7\t5.761904761904761  ==  5.761904761904761\n",
      "\t 8\t5.761904761904761  ==  5.761904761904761\n",
      "\t 9\t5.666666666666667  ==  5.666666666666666\n",
      "\t 10\t5.619047619047617  ==  5.619047619047619\n",
      "\t 11\t5.523809523809524  ==  5.523809523809524\n",
      "\t 12\t5.7142857142857135  ==  5.7142857142857135\n",
      "\t 13\t5.476190476190476  ==  5.476190476190476\n",
      "\t 14\t5.9523809523809526  ==  5.9523809523809526\n",
      "\t 15\t5.714285714285714  ==  5.7142857142857135\n",
      "\t 16\t5.523809523809524  ==  5.523809523809524\n",
      "\t 17\t5.6190476190476195  ==  5.619047619047619\n",
      "\t 18\t5.571428571428571  ==  5.571428571428571\n",
      "\t 19\t5.619047619047619  ==  5.619047619047619\n",
      "7:\n",
      "\t 0\t5.761904761904762  ==  5.761904761904763\n",
      "\t 1\t5.619047619047619  ==  5.6190476190476195\n",
      "\t 2\t5.523809523809525  ==  5.523809523809525\n",
      "\t 3\t5.571428571428571  ==  5.571428571428572\n",
      "\t 4\t5.761904761904763  ==  5.761904761904763\n",
      "\t 5\t5.666666666666667  ==  5.666666666666668\n",
      "\t 6\t5.666666666666667  ==  5.666666666666668\n",
      "\t 7\t5.476190476190476  ==  5.476190476190477\n",
      "\t 8\t5.523809523809525  ==  5.523809523809525\n",
      "\t 9\t5.619047619047619  ==  5.6190476190476195\n",
      "\t 10\t5.571428571428571  ==  5.571428571428572\n",
      "\t 11\t5.476190476190477  ==  5.476190476190477\n",
      "\t 12\t5.666666666666667  ==  5.666666666666668\n",
      "\t 13\t5.619047619047619  ==  5.6190476190476195\n",
      "\t 14\t5.666666666666668  ==  5.666666666666668\n",
      "\t 15\t5.6190476190476195  ==  5.6190476190476195\n",
      "\t 16\t5.666666666666667  ==  5.666666666666668\n",
      "\t 17\t5.714285714285715  ==  5.714285714285715\n",
      "\t 18\t5.523809523809523  ==  5.523809523809525\n",
      "\t 19\t5.666666666666667  ==  5.666666666666668\n",
      "8:\n",
      "\t 0\t6.190476190476191  ==  6.19047619047619\n",
      "\t 1\t6.285714285714287  ==  6.285714285714286\n",
      "\t 2\t6.142857142857143  ==  6.142857142857142\n",
      "\t 3\t6.142857142857143  ==  6.142857142857142\n",
      "\t 4\t6.142857142857143  ==  6.142857142857142\n",
      "\t 5\t6.285714285714286  ==  6.285714285714286\n",
      "\t 6\t6.285714285714286  ==  6.285714285714286\n",
      "\t 7\t6.190476190476191  ==  6.19047619047619\n",
      "\t 8\t6.190476190476191  ==  6.19047619047619\n",
      "\t 9\t6.190476190476191  ==  6.19047619047619\n",
      "\t 10\t6.380952380952381  ==  6.3809523809523805\n",
      "\t 11\t6.0476190476190474  ==  6.0476190476190474\n",
      "\t 12\t6.190476190476189  ==  6.19047619047619\n",
      "\t 13\t6.238095238095236  ==  6.238095238095237\n",
      "\t 14\t6.285714285714285  ==  6.285714285714286\n",
      "\t 15\t6.095238095238095  ==  6.095238095238095\n",
      "\t 16\t6.1428571428571415  ==  6.142857142857142\n",
      "\t 17\t5.999999999999998  ==  6.0\n",
      "\t 18\t6.333333333333333  ==  6.333333333333333\n",
      "\t 19\t6.142857142857143  ==  6.142857142857142\n",
      "9:\n",
      "\t 0\t6.523809523809524  ==  6.523809523809523\n",
      "\t 1\t6.333333333333333  ==  6.333333333333332\n",
      "\t 2\t6.428571428571429  ==  6.428571428571427\n",
      "\t 3\t6.523809523809524  ==  6.523809523809523\n",
      "\t 4\t6.428571428571429  ==  6.428571428571427\n",
      "\t 5\t6.523809523809524  ==  6.523809523809523\n",
      "\t 6\t6.333333333333335  ==  6.333333333333332\n",
      "\t 7\t6.428571428571429  ==  6.428571428571427\n",
      "\t 8\t6.571428571428573  ==  6.57142857142857\n",
      "\t 9\t6.523809523809524  ==  6.523809523809523\n",
      "\t 10\t6.285714285714286  ==  6.285714285714285\n",
      "\t 11\t6.428571428571429  ==  6.428571428571427\n",
      "\t 12\t6.42857142857143  ==  6.428571428571427\n",
      "\t 13\t6.333333333333333  ==  6.333333333333332\n",
      "\t 14\t6.666666666666667  ==  6.666666666666666\n",
      "\t 15\t6.619047619047619  ==  6.619047619047618\n",
      "\t 16\t6.476190476190476  ==  6.4761904761904745\n",
      "\t 17\t6.4761904761904745  ==  6.4761904761904745\n",
      "\t 18\t6.285714285714286  ==  6.285714285714285\n",
      "\t 19\t6.523809523809524  ==  6.523809523809523\n",
      "10:\n",
      "\t 0\t6.095238095238095  ==  6.095238095238095\n",
      "\t 1\t6.095238095238097  ==  6.095238095238095\n",
      "\t 2\t5.952380952380951  ==  5.9523809523809526\n",
      "\t 3\t6.190476190476189  ==  6.19047619047619\n",
      "\t 4\t6.095238095238094  ==  6.095238095238095\n",
      "\t 5\t6.1428571428571415  ==  6.142857142857142\n",
      "\t 6\t6.238095238095238  ==  6.238095238095238\n",
      "\t 7\t6.238095238095238  ==  6.238095238095238\n",
      "\t 8\t6.142857142857143  ==  6.142857142857142\n",
      "\t 9\t6.190476190476191  ==  6.19047619047619\n",
      "\t 10\t6.190476190476191  ==  6.19047619047619\n",
      "\t 11\t6.238095238095238  ==  6.238095238095238\n",
      "\t 12\t6.142857142857143  ==  6.142857142857142\n",
      "\t 13\t6.095238095238095  ==  6.095238095238095\n",
      "\t 14\t5.999999999999999  ==  6.0\n",
      "\t 15\t6.095238095238095  ==  6.095238095238095\n",
      "\t 16\t6.142857142857143  ==  6.142857142857142\n",
      "\t 17\t6.190476190476191  ==  6.19047619047619\n",
      "\t 18\t6.190476190476191  ==  6.19047619047619\n",
      "\t 19\t6.190476190476191  ==  6.19047619047619\n",
      "11:\n",
      "\t 0\t5.571428571428571  ==  5.571428571428571\n",
      "\t 1\t5.666666666666665  ==  5.666666666666666\n",
      "\t 2\t5.476190476190476  ==  5.476190476190476\n",
      "\t 3\t5.761904761904762  ==  5.761904761904762\n",
      "\t 4\t5.523809523809523  ==  5.523809523809524\n",
      "\t 5\t5.809523809523808  ==  5.809523809523809\n",
      "\t 6\t5.571428571428571  ==  5.571428571428571\n",
      "\t 7\t5.619047619047619  ==  5.619047619047619\n",
      "\t 8\t5.666666666666665  ==  5.666666666666666\n",
      "\t 9\t5.571428571428571  ==  5.571428571428571\n",
      "\t 10\t5.476190476190476  ==  5.476190476190476\n",
      "\t 11\t5.761904761904761  ==  5.761904761904762\n",
      "\t 12\t5.523809523809523  ==  5.523809523809524\n",
      "\t 13\t5.714285714285714  ==  5.7142857142857135\n",
      "\t 14\t5.619047619047619  ==  5.619047619047619\n",
      "\t 15\t5.666666666666666  ==  5.666666666666666\n",
      "\t 16\t5.523809523809523  ==  5.523809523809524\n",
      "\t 17\t5.619047619047619  ==  5.619047619047619\n",
      "\t 18\t5.714285714285714  ==  5.7142857142857135\n",
      "\t 19\t5.523809523809524  ==  5.523809523809524\n",
      "12:\n",
      "\t 0\t6.476190476190476  ==  6.476190476190476\n",
      "\t 1\t6.38095238095238  ==  6.380952380952381\n",
      "\t 2\t6.428571428571429  ==  6.428571428571429\n",
      "\t 3\t6.476190476190476  ==  6.476190476190476\n",
      "\t 4\t6.285714285714286  ==  6.285714285714286\n",
      "\t 5\t6.476190476190476  ==  6.476190476190476\n",
      "\t 6\t6.238095238095236  ==  6.238095238095238\n",
      "\t 7\t6.476190476190476  ==  6.476190476190476\n",
      "\t 8\t6.333333333333333  ==  6.333333333333333\n",
      "\t 9\t6.428571428571429  ==  6.428571428571429\n",
      "\t 10\t6.285714285714286  ==  6.285714285714286\n",
      "\t 11\t6.380952380952381  ==  6.380952380952381\n",
      "\t 12\t6.285714285714285  ==  6.285714285714286\n",
      "\t 13\t6.476190476190476  ==  6.476190476190476\n",
      "\t 14\t6.57142857142857  ==  6.571428571428571\n",
      "\t 15\t6.380952380952381  ==  6.380952380952381\n",
      "\t 16\t6.523809523809524  ==  6.523809523809524\n",
      "\t 17\t6.333333333333332  ==  6.333333333333333\n",
      "\t 18\t6.523809523809523  ==  6.523809523809524\n",
      "\t 19\t6.333333333333333  ==  6.333333333333333\n",
      "13:\n",
      "\t 0\t5.809523809523809  ==  5.809523809523808\n",
      "\t 1\t6.0  ==  5.999999999999998\n",
      "\t 2\t5.952380952380952  ==  5.952380952380951\n",
      "\t 3\t5.904761904761905  ==  5.904761904761903\n",
      "\t 4\t5.857142857142857  ==  5.857142857142856\n",
      "\t 5\t6.047619047619047  ==  6.047619047619047\n",
      "\t 6\t5.904761904761903  ==  5.904761904761903\n",
      "\t 7\t6.0476190476190474  ==  6.047619047619047\n",
      "\t 8\t5.952380952380952  ==  5.952380952380951\n",
      "\t 9\t5.809523809523809  ==  5.809523809523808\n",
      "\t 10\t6.0  ==  5.999999999999998\n",
      "\t 11\t5.952380952380953  ==  5.952380952380951\n",
      "\t 12\t5.904761904761905  ==  5.904761904761903\n",
      "\t 13\t6.047619047619047  ==  6.047619047619047\n",
      "\t 14\t5.857142857142857  ==  5.857142857142856\n",
      "\t 15\t5.857142857142856  ==  5.857142857142856\n",
      "\t 16\t5.80952380952381  ==  5.809523809523808\n",
      "\t 17\t6.095238095238095  ==  6.095238095238094\n",
      "\t 18\t5.857142857142857  ==  5.857142857142856\n",
      "\t 19\t6.0  ==  5.999999999999998\n",
      "14:\n",
      "\t 0\t5.1428571428571415  ==  5.142857142857141\n",
      "\t 1\t5.428571428571427  ==  5.428571428571427\n",
      "\t 2\t5.1428571428571415  ==  5.142857142857141\n",
      "\t 3\t5.238095238095236  ==  5.238095238095236\n",
      "\t 4\t5.238095238095238  ==  5.238095238095236\n",
      "\t 5\t5.38095238095238  ==  5.38095238095238\n",
      "\t 6\t5.333333333333332  ==  5.333333333333331\n",
      "\t 7\t5.333333333333333  ==  5.333333333333331\n",
      "\t 8\t5.333333333333333  ==  5.333333333333331\n",
      "\t 9\t5.285714285714286  ==  5.285714285714284\n",
      "\t 10\t5.285714285714285  ==  5.285714285714284\n",
      "\t 11\t5.285714285714286  ==  5.285714285714284\n",
      "\t 12\t5.238095238095237  ==  5.238095238095236\n",
      "\t 13\t5.333333333333332  ==  5.333333333333331\n",
      "\t 14\t5.333333333333333  ==  5.333333333333331\n",
      "\t 15\t5.285714285714285  ==  5.285714285714284\n",
      "\t 16\t5.333333333333333  ==  5.333333333333331\n",
      "\t 17\t5.380952380952381  ==  5.38095238095238\n",
      "\t 18\t5.285714285714286  ==  5.285714285714284\n",
      "\t 19\t5.476190476190476  ==  5.4761904761904745\n",
      "15:\n",
      "\t 0\t6.047619047619048  ==  6.0476190476190474\n",
      "\t 1\t5.8571428571428585  ==  5.857142857142857\n",
      "\t 2\t5.9523809523809526  ==  5.9523809523809526\n",
      "\t 3\t5.714285714285714  ==  5.7142857142857135\n",
      "\t 4\t5.904761904761905  ==  5.904761904761904\n",
      "\t 5\t5.904761904761905  ==  5.904761904761904\n",
      "\t 6\t5.999999999999999  ==  6.0\n",
      "\t 7\t5.80952380952381  ==  5.809523809523809\n",
      "\t 8\t5.809523809523809  ==  5.809523809523809\n",
      "\t 9\t5.904761904761904  ==  5.904761904761904\n",
      "\t 10\t6.095238095238095  ==  6.095238095238095\n",
      "\t 11\t5.857142857142856  ==  5.857142857142857\n",
      "\t 12\t6.142857142857143  ==  6.142857142857142\n",
      "\t 13\t6.000000000000002  ==  6.0\n",
      "\t 14\t6.0  ==  6.0\n",
      "\t 15\t5.80952380952381  ==  5.809523809523809\n",
      "\t 16\t6.095238095238095  ==  6.095238095238095\n",
      "\t 17\t5.904761904761905  ==  5.904761904761904\n",
      "\t 18\t5.904761904761904  ==  5.904761904761904\n",
      "\t 19\t5.952380952380952  ==  5.9523809523809526\n",
      "16:\n",
      "\t 0\t6.238095238095238  ==  6.238095238095237\n",
      "\t 1\t5.952380952380952  ==  5.952380952380951\n",
      "\t 2\t6.190476190476189  ==  6.19047619047619\n",
      "\t 3\t6.285714285714286  ==  6.285714285714285\n",
      "\t 4\t6.285714285714285  ==  6.285714285714285\n",
      "\t 5\t6.333333333333333  ==  6.333333333333332\n",
      "\t 6\t6.333333333333332  ==  6.333333333333332\n",
      "\t 7\t6.238095238095236  ==  6.238095238095237\n",
      "\t 8\t6.190476190476191  ==  6.19047619047619\n",
      "\t 9\t6.095238095238094  ==  6.095238095238094\n",
      "\t 10\t6.142857142857143  ==  6.1428571428571415\n",
      "\t 11\t6.238095238095238  ==  6.238095238095237\n",
      "\t 12\t6.095238095238095  ==  6.095238095238094\n",
      "\t 13\t6.095238095238095  ==  6.095238095238094\n",
      "\t 14\t5.999999999999998  ==  5.999999999999999\n",
      "\t 15\t6.190476190476191  ==  6.19047619047619\n",
      "\t 16\t6.190476190476191  ==  6.19047619047619\n",
      "\t 17\t6.428571428571429  ==  6.428571428571427\n",
      "\t 18\t6.190476190476191  ==  6.19047619047619\n",
      "\t 19\t6.190476190476189  ==  6.19047619047619\n",
      "17:\n",
      "\t 0\t5.761904761904761  ==  5.761904761904761\n",
      "\t 1\t5.666666666666666  ==  5.666666666666665\n",
      "\t 2\t5.904761904761904  ==  5.904761904761903\n",
      "\t 3\t5.761904761904761  ==  5.761904761904761\n",
      "\t 4\t5.666666666666666  ==  5.666666666666665\n",
      "\t 5\t5.571428571428571  ==  5.57142857142857\n",
      "\t 6\t5.666666666666665  ==  5.666666666666665\n",
      "\t 7\t5.57142857142857  ==  5.57142857142857\n",
      "\t 8\t5.523809523809523  ==  5.523809523809523\n",
      "\t 9\t5.523809523809523  ==  5.523809523809523\n",
      "\t 10\t5.666666666666667  ==  5.666666666666665\n",
      "\t 11\t5.666666666666666  ==  5.666666666666665\n",
      "\t 12\t6.047619047619047  ==  6.047619047619047\n",
      "\t 13\t5.619047619047619  ==  5.619047619047618\n",
      "\t 14\t5.714285714285714  ==  5.7142857142857135\n",
      "\t 15\t5.476190476190476  ==  5.4761904761904745\n",
      "\t 16\t5.571428571428571  ==  5.57142857142857\n",
      "\t 17\t5.7142857142857135  ==  5.7142857142857135\n",
      "\t 18\t5.619047619047619  ==  5.619047619047618\n",
      "\t 19\t5.714285714285713  ==  5.7142857142857135\n",
      "18:\n",
      "\t 0\t5.380952380952381  ==  5.3809523809523805\n",
      "\t 1\t5.4761904761904745  ==  5.476190476190476\n",
      "\t 2\t5.285714285714285  ==  5.285714285714286\n",
      "\t 3\t5.476190476190476  ==  5.476190476190476\n",
      "\t 4\t5.523809523809523  ==  5.523809523809524\n",
      "\t 5\t5.333333333333334  ==  5.333333333333333\n",
      "\t 6\t5.333333333333333  ==  5.333333333333333\n",
      "\t 7\t5.238095238095237  ==  5.238095238095238\n",
      "\t 8\t5.523809523809523  ==  5.523809523809524\n",
      "\t 9\t5.380952380952381  ==  5.3809523809523805\n",
      "\t 10\t5.333333333333334  ==  5.333333333333333\n",
      "\t 11\t5.2857142857142865  ==  5.285714285714286\n",
      "\t 12\t5.428571428571429  ==  5.428571428571429\n",
      "\t 13\t5.428571428571429  ==  5.428571428571429\n",
      "\t 14\t5.238095238095238  ==  5.238095238095238\n",
      "\t 15\t5.190476190476192  ==  5.19047619047619\n",
      "\t 16\t5.333333333333333  ==  5.333333333333333\n",
      "\t 17\t5.190476190476191  ==  5.19047619047619\n",
      "\t 18\t5.333333333333333  ==  5.333333333333333\n",
      "\t 19\t5.428571428571429  ==  5.428571428571429\n",
      "19:\n",
      "\t 0\t5.904761904761905  ==  5.904761904761903\n",
      "\t 1\t5.9523809523809526  ==  5.952380952380951\n",
      "\t 2\t5.952380952380953  ==  5.952380952380951\n",
      "\t 3\t6.0476190476190474  ==  6.047619047619047\n",
      "\t 4\t6.095238095238095  ==  6.095238095238094\n",
      "\t 5\t5.952380952380952  ==  5.952380952380951\n",
      "\t 6\t5.904761904761905  ==  5.904761904761903\n",
      "\t 7\t5.761904761904761  ==  5.761904761904761\n",
      "\t 8\t5.809523809523809  ==  5.809523809523808\n",
      "\t 9\t5.761904761904762  ==  5.761904761904761\n",
      "\t 10\t5.809523809523809  ==  5.809523809523808\n",
      "\t 11\t5.809523809523809  ==  5.809523809523808\n",
      "\t 12\t6.0  ==  5.999999999999998\n",
      "\t 13\t5.714285714285715  ==  5.7142857142857135\n",
      "\t 14\t6.238095238095238  ==  6.238095238095237\n",
      "\t 15\t6.142857142857143  ==  6.1428571428571415\n",
      "\t 16\t5.904761904761904  ==  5.904761904761903\n",
      "\t 17\t5.857142857142857  ==  5.857142857142856\n",
      "\t 18\t6.0476190476190474  ==  6.047619047619047\n",
      "\t 19\t6.000000000000001  ==  5.999999999999998\n"
     ]
    }
   ],
   "source": [
    "N = 20\n",
    "for i in range(N):\n",
    "    rg = nx.erdos_renyi_graph(20, p=0.5)\n",
    "    while not nx.is_connected(rg):\n",
    "        rg = nx.erdos_renyi_graph(20, p=0.5)\n",
    "\n",
    "    print(i, end=':\\n')\n",
    "    for w in rg.nodes:\n",
    "        print('\\t', w, end='\\t')\n",
    "        assert check_theorem_5(rg, w)"
   ]
  },
  {
   "cell_type": "markdown",
   "metadata": {},
   "source": [
    "## Task 4"
   ]
  },
  {
   "cell_type": "code",
   "execution_count": 59,
   "metadata": {},
   "outputs": [],
   "source": [
    "def check_proposition_6(graph, u, v):\n",
    "    assert u in graph.nodes\n",
    "    assert v in graph.nodes\n",
    "\n",
    "    d_uv = nx.shortest_path_length(graph, source=u, target=v)\n",
    "    assert 1 <= d_uv <= 2\n",
    "\n",
    "    n = graph.number_of_nodes()\n",
    "    \n",
    "    w = n\n",
    "    assert w not in graph.nodes\n",
    "    G_prime = graph.copy()\n",
    "    G_prime.add_edge(w, u)\n",
    "    G_prime.add_edge(w, v)\n",
    "\n",
    "    LHS = 1 / (n + 1) * (n * global_betweenness(graph) + n - 2)\n",
    "    RHS = global_betweenness(G_prime)\n",
    "\n",
    "    print(LHS, '<=', RHS)\n",
    "    return LHS <= RHS\n",
    "    \n"
   ]
  },
  {
   "cell_type": "code",
   "execution_count": 60,
   "metadata": {},
   "outputs": [
    {
     "name": "stdout",
     "output_type": "stream",
     "text": [
      "3.5 <= 3.5\n"
     ]
    },
    {
     "data": {
      "text/plain": [
       "True"
      ]
     },
     "execution_count": 60,
     "metadata": {},
     "output_type": "execute_result"
    }
   ],
   "source": [
    "check_proposition_6(star, 0, 2)"
   ]
  },
  {
   "cell_type": "markdown",
   "metadata": {},
   "source": [
    "## Task 5"
   ]
  },
  {
   "cell_type": "code",
   "execution_count": 61,
   "metadata": {},
   "outputs": [
    {
     "data": {
      "text/plain": [
       "[(0.0, 2.5778061224489806),\n",
       " (0.05263157894736842, 1.9187959866220736),\n",
       " (0.10526315789473684, 1.7400261134484263),\n",
       " (0.15789473684210525, 1.5431386130993612),\n",
       " (0.21052631578947367, 1.172278481012658),\n",
       " (0.2631578947368421, 1.4079675138276269),\n",
       " (0.3157894736842105, 1.614510995370371),\n",
       " (0.3684210526315789, 0.9458450046685342),\n",
       " (0.42105263157894735, 1.0637254901960784),\n",
       " (0.47368421052631576, 0.9436160298229262),\n",
       " (0.5263157894736842, 1.1688923395445137),\n",
       " (0.5789473684210527, 0.7866184448462928),\n",
       " (0.631578947368421, 1.0852192362093354),\n",
       " (0.6842105263157894, 1.3474933027171834),\n",
       " (0.7368421052631579, 0.8879120879120879),\n",
       " (0.7894736842105263, 1.014146821061831),\n",
       " (0.8421052631578947, 1.2043360433604338),\n",
       " (0.894736842105263, 0.957949976146664),\n",
       " (0.9473684210526315, 0.958380902957966),\n",
       " (1.0, 0.7090438915292143)]"
      ]
     },
     "execution_count": 61,
     "metadata": {},
     "output_type": "execute_result"
    }
   ],
   "source": [
    "n = 15\n",
    "k = 4\n",
    "\n",
    "data = []\n",
    "for p in np.linspace(0, 1, num=20):\n",
    "    sigma = nx.sigma(nx.watts_strogatz_graph(n, k, p))\n",
    "    data.append((p, sigma))\n",
    "    \n",
    "data"
   ]
  },
  {
   "cell_type": "code",
   "execution_count": 62,
   "metadata": {},
   "outputs": [
    {
     "data": {
      "text/plain": [
       "<seaborn.axisgrid.FacetGrid at 0x7fc2b9c90790>"
      ]
     },
     "execution_count": 62,
     "metadata": {},
     "output_type": "execute_result"
    },
    {
     "data": {
      "image/png": "[encoded data removed]",
      "text/plain": [
       "<Figure size 1000x500 with 1 Axes>"
      ]
     },
     "metadata": {},
     "output_type": "display_data"
    }
   ],
   "source": [
    "ps = [ _[0] for _ in data ]\n",
    "sigmas = [ _[1] for _ in data ]\n",
    "\n",
    "g = sns.relplot(x=ps, y=sigmas, aspect=2)\n",
    "g.set(title=\"Relationship of sigma with respect to p for WS n=15, k=4\")\n",
    "g.set_ylabels(\"sigma\")\n",
    "g.set_xlabels(\"p\")"
   ]
  },
  {
   "cell_type": "markdown",
   "metadata": {},
   "source": [
    "## Task 6"
   ]
  },
  {
   "cell_type": "code",
   "execution_count": 63,
   "metadata": {},
   "outputs": [
    {
     "data": {
      "text/plain": [
       "[1.1894893899204244,\n",
       " 1.8032352161230445,\n",
       " 1.2592330383480825,\n",
       " 1.0906416821004468,\n",
       " 1.1272902603664419,\n",
       " 1.0190929832285955,\n",
       " 1.0516129032258061,\n",
       " 1.0332636278195488,\n",
       " 1.0129870129870129,\n",
       " 1.0101744186046513,\n",
       " 1.0167162811999084]"
      ]
     },
     "execution_count": 63,
     "metadata": {},
     "output_type": "execute_result"
    }
   ],
   "source": [
    "# Fix n, p\n",
    "p = 0.3\n",
    "n = 20\n",
    "\n",
    "ks = range(4, 15)\n",
    "sigmas = []\n",
    "for k in ks:\n",
    "    sigma = nx.sigma(nx.watts_strogatz_graph(n, k, p))\n",
    "    sigmas.append(sigma)\n",
    "\n",
    "sigmas"
   ]
  },
  {
   "cell_type": "code",
   "execution_count": 64,
   "metadata": {},
   "outputs": [
    {
     "data": {
      "text/plain": [
       "<seaborn.axisgrid.FacetGrid at 0x7fc2baf444f0>"
      ]
     },
     "execution_count": 64,
     "metadata": {},
     "output_type": "execute_result"
    },
    {
     "data": {
      "image/png": "[encoded data removed]",
      "text/plain": [
       "<Figure size 1000x500 with 1 Axes>"
      ]
     },
     "metadata": {},
     "output_type": "display_data"
    }
   ],
   "source": [
    "g = sns.relplot(x=ks, y=sigmas, aspect=2)\n",
    "g.set(title=\"Relationship of sigma with respect to k for WS n=20, p=0.3\")\n",
    "g.set_ylabels(\"sigma\")\n",
    "g.set_xlabels(\"k\")"
   ]
  },
  {
   "cell_type": "code",
   "execution_count": 65,
   "metadata": {},
   "outputs": [
    {
     "data": {
      "text/plain": [
       "[1.0,\n",
       " 1.0,\n",
       " 0.9999999999999998,\n",
       " 1.046511627906977,\n",
       " 1.018688628444726,\n",
       " 1.0408033826638479,\n",
       " 1.19788967049241,\n",
       " 1.4278846153846156,\n",
       " 1.0091250670960816,\n",
       " 1.434737923946557,\n",
       " 0.9357045143638849,\n",
       " 0.5574618736383441,\n",
       " 1.7423026411790457,\n",
       " 2.292785234899328,\n",
       " 1.274431591543678,\n",
       " 0.9849726775956287]"
      ]
     },
     "execution_count": 65,
     "metadata": {},
     "output_type": "execute_result"
    }
   ],
   "source": [
    "# Fix k, p\n",
    "p = 0.3\n",
    "k = 4\n",
    "\n",
    "ns = range(4, 20)\n",
    "sigmas = []\n",
    "for n in ns:\n",
    "    sigma = nx.sigma(nx.watts_strogatz_graph(n, k, p))\n",
    "    sigmas.append(sigma)\n",
    "\n",
    "sigmas"
   ]
  },
  {
   "cell_type": "code",
   "execution_count": 66,
   "metadata": {},
   "outputs": [
    {
     "data": {
      "text/plain": [
       "<seaborn.axisgrid.FacetGrid at 0x7fc2baaaaf50>"
      ]
     },
     "execution_count": 66,
     "metadata": {},
     "output_type": "execute_result"
    },
    {
     "data": {
      "image/png": "[encoded data removed]",
      "text/plain": [
       "<Figure size 1000x500 with 1 Axes>"
      ]
     },
     "metadata": {},
     "output_type": "display_data"
    }
   ],
   "source": [
    "g = sns.relplot(x=ns, y=sigmas, aspect=2)\n",
    "g.set(title=\"Relationship of sigma with respect to n for WS k=4, p=0.3\")\n",
    "g.set_ylabels(\"sigma\")\n",
    "g.set_xlabels(\"n\")"
   ]
  },
  {
   "cell_type": "code",
   "execution_count": null,
   "metadata": {},
   "outputs": [],
   "source": []
  }
 ],
 "metadata": {
  "kernelspec": {
   "display_name": "gn",
   "language": "python",
   "name": "python3"
  },
  "language_info": {
   "codemirror_mode": {
    "name": "ipython",
    "version": 3
   },
   "file_extension": ".py",
   "mimetype": "text/x-python",
   "name": "python",
   "nbconvert_exporter": "python",
   "pygments_lexer": "ipython3",
   "version": "3.10.10"
  }
 },
 "nbformat": 4,
 "nbformat_minor": 2
}
