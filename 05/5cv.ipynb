{
 "cells": [
  {
   "cell_type": "markdown",
   "id": "inappropriate-tennessee",
   "metadata": {},
   "source": [
    "# Tutorial 5: Analysis of real complex networks\n",
    "\n",
    "During this tutorial we will analyze several real-world networks of different kinds. The first kind of network are social networks, represented by\n",
    "\n",
    "- the social network of characters from the novel Les Miserables:\n",
    "\n",
    "https://iuuk.mff.cuni.cz/~hartman/teach/GN/seminars/Data/lesmis.gml\n",
    "\n",
    "(original source http://www-personal.umich.edu/~mejn/netdata/lesmis.zip)\n",
    "\n",
    "- collaboration network of network scientists:\n",
    "\n",
    "https://iuuk.mff.cuni.cz/~hartman/teach/GN/seminars/Data/netscience.gml\n",
    "\n",
    "(original source http://www-personal.umich.edu/~mejn/netdata/netscience.zip)\n",
    "\n",
    "The second kind of networks will be technical networks where we will have as examples\n",
    "\n",
    "- the topology of power grid of western part of United States:\n",
    "\n",
    "https://iuuk.mff.cuni.cz/~hartman/teach/GN/seminars/Data/power.gml\n",
    "\n",
    "(original source: http://www-personal.umich.edu/~mejn/netdata/power.zip)\n",
    "\n",
    "https://iuuk.mff.cuni.cz/~hartman/teach/GN/seminars/Data/air.paj\n",
    "\n",
    "(original source: http://vlado.fmf.uni-lj.si/pub/networks/data/mix/USAir97.net)\n",
    "\n",
    "The third kind of networks are biological networks with\n",
    "\n",
    "- neural network of C. Elegans:\n",
    "\n",
    "https://iuuk.mff.cuni.cz/~hartman/teach/GN/seminars/Data/celegansneural.gml\n",
    "\n",
    "(original source: http://www-personal.umich.edu/~mejn/netdata/celegansneural.zip)\n",
    "\n",
    "The fourth kind of networks are linguistic networks where we have\n",
    "\n",
    "- the network of 72 terms regarding graphs and digraphs where terms are related if one term is used to explain the other\n",
    "\n",
    "https://iuuk.mff.cuni.cz/~hartman/teach/GN/seminars/Data/glossary.paj\n",
    "\n",
    "(original source: http://vlado.fmf.uni-lj.si/pub/networks/data/DIC/TG/glossTG.htm)"
   ]
  },
  {
   "cell_type": "markdown",
   "id": "12b3ea18",
   "metadata": {},
   "source": [
    "**Task 1:** Download these networks, import them and list the number of nodes and edges."
   ]
  },
  {
   "cell_type": "markdown",
   "id": "98947182",
   "metadata": {},
   "source": [
    "**Task 2:** Consider the networks mentioned above. Discuss the expected values of\n",
    "\n",
    "- average path length\n",
    "- diameter\n",
    "- average clustering\n",
    "\n",
    "How will probably look like the curve giving degree distribution?\n"
   ]
  },
  {
   "cell_type": "markdown",
   "id": "danish-resource",
   "metadata": {},
   "source": [
    "## Degree distribtion\n",
    "\n",
    "To visualise degree distribution, we can use plotting by `matplotlib`. There are several useful ways of plotting, such as histograms by function `bar` and line plots by function `plot`.\n"
   ]
  },
  {
   "cell_type": "code",
   "execution_count": 2,
   "id": "offensive-territory",
   "metadata": {},
   "outputs": [
    {
     "data": {
      "text/plain": [
       "Text(0.5, 0, 'x')"
      ]
     },
     "execution_count": 2,
     "metadata": {},
     "output_type": "execute_result"
    },
    {
     "data": {
      "image/png": "[encoded data removed]",
      "text/plain": [
       "<Figure size 432x288 with 1 Axes>"
      ]
     },
     "metadata": {
      "needs_background": "light"
     },
     "output_type": "display_data"
    }
   ],
   "source": [
    "import matplotlib.pyplot as plt\n",
    "\n",
    "x = range(-10,11)\n",
    "y = [i**2 for i in x]\n",
    "\n",
    "plt.bar(x, y)\n",
    "\n",
    "plt.title(\"Parabola\")\n",
    "plt.ylabel(\"y\")\n",
    "plt.xlabel(\"x\")"
   ]
  },
  {
   "cell_type": "markdown",
   "id": "great-darkness",
   "metadata": {},
   "source": [
    "There are multiple possibilities to set up the view, see https://matplotlib.org/stable/api/_as_gen/matplotlib.axes.Axes.bar.html"
   ]
  },
  {
   "cell_type": "markdown",
   "id": "residential-deputy",
   "metadata": {},
   "source": [
    "**Task 3:** Write a function, which for given graph plots the histogram of its degree distribution."
   ]
  },
  {
   "cell_type": "markdown",
   "id": "ecological-baptist",
   "metadata": {},
   "source": [
    "## Scale-free property\n",
    "A network is considered scale-free if the fraction of vertices $P(k)$ having degree $k$ decays for large values of $k$ similarly as the power law: \n",
    "\n",
    "$$P(k)≈k−\\lambda$$\n",
    "\n",
    "where $2<\\lambda<3$. Sometimes we also call this as heavy or fat tailed degree distribution.\n",
    "\n",
    "To find if the network tends to be scale-free or not, it will be useful to be able to visualize both power law and degree distribution in one image.\n"
   ]
  },
  {
   "cell_type": "markdown",
   "id": "3b32c563",
   "metadata": {},
   "source": [
    "**Task 4:** For the networks above, plot the fraction of vertices having degree $k$ for all reasonable $k$'s and compare this plot with the function $k−\\lambda$ for $\\lambda$ being 2,2.5 and 3."
   ]
  },
  {
   "cell_type": "markdown",
   "id": "76dff359",
   "metadata": {},
   "source": [
    "## Clustering coefficient\n",
    "\n",
    "We can count the clustering coefficient of vertices in the network by NetworkX function `clustering(G)`, which returns a dictionary of vertices with their clustering coefficient saved as values. More information is in the documentation: https://networkx.org/documentation/stable/reference/algorithms/generated/networkx.algorithms.cluster.clustering.html#networkx.algorithms.cluster.clustering.\n",
    "\n",
    "You can even count the average clustering of the network $G$ using function `average_clustering(G)`: https://networkx.org/documentation/stable/reference/algorithms/generated/networkx.algorithms.cluster.average_clustering.html#networkx.algorithms.cluster.average_clustering"
   ]
  },
  {
   "cell_type": "markdown",
   "id": "7c190185",
   "metadata": {},
   "source": [
    "**Task 5:** For the above mentioned networks, count the\n",
    "\n",
    "- average clustering\n",
    "- average shortest path length\n"
   ]
  },
  {
   "cell_type": "markdown",
   "id": "d36d43d5",
   "metadata": {},
   "source": [
    "**Task 6:** Did the results match your expectations?"
   ]
  }
 ],
 "metadata": {
  "kernelspec": {
   "display_name": "Python 3 (ipykernel)",
   "language": "python",
   "name": "python3"
  },
  "language_info": {
   "codemirror_mode": {
    "name": "ipython",
    "version": 3
   },
   "file_extension": ".py",
   "mimetype": "text/x-python",
   "name": "python",
   "nbconvert_exporter": "python",
   "pygments_lexer": "ipython3",
   "version": "3.10.12"
  }
 },
 "nbformat": 4,
 "nbformat_minor": 5
}
